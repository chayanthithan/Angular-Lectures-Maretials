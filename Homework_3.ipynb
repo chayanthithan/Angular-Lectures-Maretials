{
  "nbformat": 4,
  "nbformat_minor": 0,
  "metadata": {
    "colab": {
      "provenance": [],
      "authorship_tag": "ABX9TyOzbczpxwFJ2aM+jHpqPWW/",
      "include_colab_link": true
    },
    "kernelspec": {
      "name": "python3",
      "display_name": "Python 3"
    },
    "language_info": {
      "name": "python"
    }
  },
  "cells": [
    {
      "cell_type": "markdown",
      "metadata": {
        "id": "view-in-github",
        "colab_type": "text"
      },
      "source": [
        "<a href=\"https://colab.research.google.com/github/chayanthithan/Angular-Lectures-Maretials/blob/main/Homework_3.ipynb\" target=\"_parent\"><img src=\"https://colab.research.google.com/assets/colab-badge.svg\" alt=\"Open In Colab\"/></a>"
      ]
    },
    {
      "cell_type": "code",
      "execution_count": 1,
      "metadata": {
        "colab": {
          "base_uri": "https://localhost:8080/"
        },
        "id": "pSJ_xDI5lWnG",
        "outputId": "3a477885-1073-4dd6-c906-3c576200b8e9"
      },
      "outputs": [
        {
          "output_type": "stream",
          "name": "stdout",
          "text": [
            "Welcome to Assignment-1\n"
          ]
        }
      ],
      "source": [
        "#Question 1\n",
        "print('Welcome to Assignment-1')"
      ]
    },
    {
      "cell_type": "code",
      "source": [
        "#Question 2\n",
        "num1 = 10\n",
        "num2 = 30\n",
        "print('Output is ',num1 , ' + ',num2,' = ',num1+num2)"
      ],
      "metadata": {
        "colab": {
          "base_uri": "https://localhost:8080/"
        },
        "id": "zvtCUYxIl5JX",
        "outputId": "36955686-d61f-441c-f661-2b1878a4e49a"
      },
      "execution_count": 2,
      "outputs": [
        {
          "output_type": "stream",
          "name": "stdout",
          "text": [
            "Output is  10  +  30  =  40\n"
          ]
        }
      ]
    },
    {
      "cell_type": "code",
      "source": [
        "#Question 3\n",
        "BMI = float (input('enter age here = '))\n",
        "if BMI <= 18.4 :\n",
        "  print('Underweight')\n",
        "elif BMI > 18.4 and BMI <= 24.9 :\n",
        "  print('Normal')\n",
        "elif BMI > 24.9 and BMI <= 39.9 :\n",
        "  print('Overweight')\n",
        "else :\n",
        "  print('Obese');\n"
      ],
      "metadata": {
        "colab": {
          "base_uri": "https://localhost:8080/"
        },
        "id": "xV5fNJOImT9Z",
        "outputId": "ae24ba3e-c735-4e7c-fb75-40a8cf321841"
      },
      "execution_count": 6,
      "outputs": [
        {
          "output_type": "stream",
          "name": "stdout",
          "text": [
            "enter age here = 34\n",
            "Overweight\n"
          ]
        }
      ]
    },
    {
      "cell_type": "code",
      "source": [
        "#Question 4\n",
        "def Subfields():\n",
        "  print('“Sub-fields in AI are:\\nMachine Learning\\nNeural Networks\\nVision\\nRobotics\\nSpeech Processing\\nNatural Language Processing”')\n",
        "\n",
        "Subfields()\n"
      ],
      "metadata": {
        "colab": {
          "base_uri": "https://localhost:8080/"
        },
        "id": "E7VgtTR0pPEJ",
        "outputId": "63112ed3-9759-456a-9410-373fee3737d9"
      },
      "execution_count": 10,
      "outputs": [
        {
          "output_type": "stream",
          "name": "stdout",
          "text": [
            "“Sub-fields in AI are:\n",
            "Machine Learning\n",
            "Neural Networks\n",
            "Vision\n",
            "Robotics\n",
            "Speech Processing\n",
            "Natural Language Processing”\n"
          ]
        }
      ]
    },
    {
      "cell_type": "code",
      "source": [
        "#Question 5\n",
        "def findEvenNumbers(num):\n",
        "  if num % 2 == 0 :\n",
        "    print(num,' is a Even number')\n",
        "  else :\n",
        "    print(num,' is not a Even number')\n",
        "\n",
        "num = int (input('Enter a number : '));\n",
        "findEvenNumbers(num)"
      ],
      "metadata": {
        "colab": {
          "base_uri": "https://localhost:8080/"
        },
        "id": "Cvq1hoE-qbq2",
        "outputId": "f928641e-50c7-44a3-e330-f4892dfdead5"
      },
      "execution_count": 14,
      "outputs": [
        {
          "output_type": "stream",
          "name": "stdout",
          "text": [
            "Enter a number : 5\n",
            "5  is not a Even number\n"
          ]
        }
      ]
    },
    {
      "cell_type": "code",
      "source": [
        "#question 6\n",
        "def eligible(age):\n",
        "  if age <= 10 :\n",
        "    print('Not Eligible');\n",
        "  else:\n",
        "    print('Eligible');\n",
        "\n",
        "age = int(input('Enter age here : '))\n",
        "eligible(age)"
      ],
      "metadata": {
        "colab": {
          "base_uri": "https://localhost:8080/"
        },
        "id": "gZpDP_UMrrH7",
        "outputId": "7705ec57-a621-4b6a-a9bf-7ff5cc8491ad"
      },
      "execution_count": 15,
      "outputs": [
        {
          "output_type": "stream",
          "name": "stdout",
          "text": [
            "Enter age here : 10\n",
            "Not Eligible\n"
          ]
        }
      ]
    },
    {
      "cell_type": "code",
      "source": [
        "#question 7\n",
        "\n",
        "\n",
        "\n",
        "\n",
        "def percentage() :\n",
        "  numOfSubject = 5 # int(input('Howmany subjects would you like to add :'))\n",
        "  i = 0;\n",
        "  total = 0;45\n",
        "  while numOfSubject > i :\n",
        "    print('Subject ',i+1,' marks : ')\n",
        "    marks = int(input())\n",
        "    total += marks;\n",
        "    i += 1\n",
        "\n",
        "  print('Total : ',total)\n",
        "  print('percentage : ',total/numOfSubject)\n",
        "\n",
        "percentage()"
      ],
      "metadata": {
        "colab": {
          "base_uri": "https://localhost:8080/"
        },
        "id": "ukJiG0WisiR0",
        "outputId": "de8ed997-cb05-4e56-a581-59811b09398e"
      },
      "execution_count": 31,
      "outputs": [
        {
          "output_type": "stream",
          "name": "stdout",
          "text": [
            "Subject  1  marks : \n",
            "23\n",
            "Subject  2  marks : \n",
            "56\n",
            "Subject  3  marks : \n",
            "45\n",
            "Subject  4  marks : \n",
            "20\n",
            "Subject  5  marks : \n",
            "30\n",
            "[23, 56, 45, 20, 30]\n",
            "Total :  174\n",
            "percentage :  34.8\n"
          ]
        }
      ]
    },
    {
      "cell_type": "code",
      "source": [
        "#Question 8\n",
        "def triangle():\n",
        "  print('Area of triangle : ');\n",
        "  height = float(input('Enter height for find area : '))\n",
        "  breadth = float(input('Enter breadth for find area : '))\n",
        "  area = (height * breadth) / 2;\n",
        "  print('height = ',height,'\\n breadth = ',breadth,'\\narea of triangle : ',area)\n",
        "  print('Perimeter of triangle : ');\n",
        "  height1 = float(input('Enter height1 for find perimeter : '))\n",
        "  height2 = float(input('Enter height2 for find perimeter : '))\n",
        "  breadth = float(input('Enter breadth for find perimeter : '))\n",
        "  perimeter = (height1 + height2 + breadth);\n",
        "  print('height1 = ',height1,'\\nheight2 = ',height2,'\\n breadth = ',breadth,'\\nperimeter of triangle : ',perimeter)\n",
        "\n",
        "triangle()\n"
      ],
      "metadata": {
        "colab": {
          "base_uri": "https://localhost:8080/"
        },
        "id": "L9aMIQXAzPgS",
        "outputId": "0f10f621-37cf-449a-b3ef-afe1c27f524b"
      },
      "execution_count": 32,
      "outputs": [
        {
          "output_type": "stream",
          "name": "stdout",
          "text": [
            "Area of triangle : \n",
            "Enter height for find area : 3\n",
            "Enter breadth for find area : 4\n",
            "height =  3.0 \n",
            " breadth =  4.0 \n",
            "area of triangle :  6.0\n",
            "Perimeter of triangle : \n",
            "Enter height1 for find perimeter : 3\n",
            "Enter height2 for find perimeter : 4\n",
            "Enter breadth for find perimeter : 45\n",
            "height1 =  3.0 \n",
            "height2 =  4.0 \n",
            " breadth =  45.0 \n",
            "perimeter of triangle :  52.0\n"
          ]
        }
      ]
    }
  ]
}