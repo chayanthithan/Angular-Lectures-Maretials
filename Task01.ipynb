{
  "nbformat": 4,
  "nbformat_minor": 0,
  "metadata": {
    "colab": {
      "provenance": [],
      "authorship_tag": "ABX9TyNx0Z/nHXDVVZw1DZqG7gS4",
      "include_colab_link": true
    },
    "kernelspec": {
      "name": "python3",
      "display_name": "Python 3"
    },
    "language_info": {
      "name": "python"
    }
  },
  "cells": [
    {
      "cell_type": "markdown",
      "metadata": {
        "id": "view-in-github",
        "colab_type": "text"
      },
      "source": [
        "<a href=\"https://colab.research.google.com/github/chayanthithan/Angular-Lectures-Maretials/blob/main/Task01.ipynb\" target=\"_parent\"><img src=\"https://colab.research.google.com/assets/colab-badge.svg\" alt=\"Open In Colab\"/></a>"
      ]
    },
    {
      "cell_type": "code",
      "execution_count": null,
      "metadata": {
        "id": "ICPlfc4aPSpC"
      },
      "outputs": [],
      "source": [
        "# my name\n",
        "print('my name is chayan kumar')"
      ]
    },
    {
      "cell_type": "code",
      "source": [
        "# summation\n",
        "a = 10\n",
        "b = 20\n",
        "c = 30\n",
        "print('sum of a + b + c = ',a+b+c);"
      ],
      "metadata": {
        "colab": {
          "base_uri": "https://localhost:8080/"
        },
        "id": "cZ9Ii-pSPbgn",
        "outputId": "2368a9fc-62fa-4406-88da-16f8292f3498"
      },
      "execution_count": 1,
      "outputs": [
        {
          "output_type": "stream",
          "name": "stdout",
          "text": [
            "sum of a + b + c =  60\n"
          ]
        }
      ]
    },
    {
      "cell_type": "code",
      "source": [
        "name = 'chayan kumar';\n",
        "age = 24;\n",
        "print('Hi , I am ',name,' .My age is ',age)"
      ],
      "metadata": {
        "colab": {
          "base_uri": "https://localhost:8080/"
        },
        "id": "5bUu3H5UPz3p",
        "outputId": "8204845c-7996-4cba-a1ba-f72c91d1b0a8"
      },
      "execution_count": 2,
      "outputs": [
        {
          "output_type": "stream",
          "name": "stdout",
          "text": [
            "Hi , I am  chayan kumar  .My age is  24\n"
          ]
        }
      ]
    },
    {
      "cell_type": "code",
      "source": [
        "# ques 05\n",
        "num = int(input('Enter an integer number : '))\n",
        "if num%2 == 0 :\n",
        "  print('It is a Even number');\n",
        "else:\n",
        "  print('It is a Odd number');"
      ],
      "metadata": {
        "colab": {
          "base_uri": "https://localhost:8080/"
        },
        "id": "JEjJV4dyQRV5",
        "outputId": "386cd64b-29fd-4306-ba62-ea18694727d7"
      },
      "execution_count": 3,
      "outputs": [
        {
          "output_type": "stream",
          "name": "stdout",
          "text": [
            "Enter an integer number : 10\n",
            "It is a Even number\n"
          ]
        }
      ]
    },
    {
      "cell_type": "code",
      "source": [
        "#ques 06\n",
        "age = int(input('Enter an age here : '))\n",
        "if age >= 60:\n",
        "  print('Senior');\n",
        "elif age < 60 and age >= 18:\n",
        "  print('Adult');\n",
        "elif age < 18 and age >= 12:\n",
        "  print('Teenager');\n",
        "else:\n",
        "  print('Child');"
      ],
      "metadata": {
        "colab": {
          "base_uri": "https://localhost:8080/"
        },
        "id": "kyqd0nZZQ0tN",
        "outputId": "903fe2a9-65e3-4add-f096-aead381593ef"
      },
      "execution_count": 5,
      "outputs": [
        {
          "output_type": "stream",
          "name": "stdout",
          "text": [
            "Enter an age here : 70\n",
            "Senior\n"
          ]
        }
      ]
    }
  ]
}